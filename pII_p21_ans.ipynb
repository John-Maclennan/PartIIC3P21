{
 "cells": [
  {
   "cell_type": "markdown",
   "metadata": {},
   "source": [
    "# Part II C3 Petrology  -  Practical 21: Glaciation and Volcanism on Iceland #\n",
    "## John Maclennan, Lent 2021 ##"
   ]
  },
  {
   "cell_type": "markdown",
   "metadata": {},
   "source": [
    "## 1. Ice Sheet History and Dating Eruptions ##\n",
    "### 15 minutes ###\n",
    "\n",
    "\n",
    "Iceland has experienced a series of glaciations over the last 3 million years. During the most recent glacial period, which ended about 12 kyr ago, an ice sheet up to 2 km in thickness covered most of the island. The presence of this ice sheet had an important influence on volcanic activity in Iceland. \n",
    "\n",
    "This effect causes clear differences in volcanic morphology between glacial and post-glacial eruptions. The relative ages of individual eruptions can therefore be estimated by inspection of volcanic morphology. Another method which has been used by Icelandic geologists to provide a stratigraphy for postglacial eruptions is known as tephrochronology. This technique relies upon the identification of well characterised tephra layers within the sequence of lava flows. Tephra is material consisting of fragments of volcanic rock of any size expelled from a volcano, but tephrochronology usually relies on ash. When such layers can be confidently associated with organic material of the same age, then it is possible to assign absolute bounds on the ages of eruptions by using <sup>14</sup>C dating. \n",
    "\n",
    "Take a look at the images in the file [P21_pictures.pptx](https://drive.google.com/file/d/1hbX74EyFjv-GP3o7c5yL46uxV5g22n7u/view?usp=sharing) which relate to the temporal and spatial distribution of ice-thickness, volcanic activity and volcanic morphologies on Iceland.  There is also an interesting video of ice-sheet evolution in a paper by [Patton et al.](http://dx.doi.org/10.1016/j.earscirev.2017.02.001). Then answer the following questions."
   ]
  },
  {
   "cell_type": "markdown",
   "metadata": {},
   "source": [
    "__Q1.1 If a basaltic eruption were to occur at the present day on Iceland, what factors would control its areal extent? Take a look at the Google Earth images of Holuhraun 2014 if you need inspiration. 2021 update: you can also take a look at the predictions of lava flow coverage for the ongoing Reykjanes Peninsula unrest [here](https://www.vedur.is/media/uncategorized/Monitormap_hraunflaedilikan_VI_05032021.png).__\n",
    "\n",
    "_Volume. Physical properties that control thickness such as viscosity. Vent location (i.e. central point or fissure. Pre-existing topography. Interaction with water, ice and other substrates._\n",
    "\n"
   ]
  },
  {
   "cell_type": "markdown",
   "metadata": {},
   "source": [
    "__Q1.2 What further processes control the areal extent of outcrop of old lava flows?__\n",
    "\n",
    "*Erosion. Superposition by younger flows*"
   ]
  },
  {
   "cell_type": "markdown",
   "metadata": {},
   "source": [
    "__Q1.3 Estimate the relative proportions of the areal coverage of recent (<7 kyr old), early postglacial (7-12 kyr old) and glacial (> 12 kyr) eruptions in the three regions shown on Figure 2 from [Maclennan et al., 2002](https://agupubs.onlinelibrary.wiley.com/doi/full/10.1029/2001GC000282).__\n",
    "\n",
    "*Rough estimates: Glacial - 15%, Early postglacial - 60%, Recent - 25%*"
   ]
  },
  {
   "cell_type": "markdown",
   "metadata": {},
   "source": [
    "__Q1.4. What is surprising about this result? Are these results in agreement with a simple model of constant eruption rate through time, with younger flows burying older flows? Have eruption, burial and erosion operated in a steady-state for postglacial times?__ \n",
    "\n",
    "*Would expect youngest segment to cover greatest area, certainly greater area than early Postglacial. Results not in agreement with simple model of constant volcanic productivity. Not in steady-state.*"
   ]
  },
  {
   "cell_type": "markdown",
   "metadata": {},
   "source": [
    "## 2. A Database of Eruption Ages, Volumes and Compositions ##\n",
    "\n",
    "### 30 Minutes ###\n",
    "\n",
    "With careful examination of the [Geology Map of Iceland](http://jardfraedikort.is/index_enska.html), published estimates of eruption ages (from tephrochronology and geomorphology) and also [high-resolution topographic maps](http://atlas.lmi.is/mapview/?application=DEM) it has been possible to make estimates of the variation in volcanic productivity over the last glacial cycle - see [Eksinchol et al., 2019](https://agupubs.onlinelibrary.wiley.com/doi/full/10.1029/2019GC008222) for a recent effort. \n",
    "\n",
    "Let's first read in a supplementary information file from this paper. "
   ]
  },
  {
   "cell_type": "code",
   "execution_count": 1,
   "metadata": {},
   "outputs": [],
   "source": [
    "import pygmt\n",
    "import pandas as pd\n",
    "import numpy as np\n"
   ]
  },
  {
   "cell_type": "code",
   "execution_count": 2,
   "metadata": {
    "scrolled": true
   },
   "outputs": [],
   "source": [
    "erupt_av = pd.read_csv('prin_supp2.csv')"
   ]
  },
  {
   "cell_type": "code",
   "execution_count": 3,
   "metadata": {
    "scrolled": true
   },
   "outputs": [
    {
     "data": {
      "text/html": [
       "<div>\n",
       "<style scoped>\n",
       "    .dataframe tbody tr th:only-of-type {\n",
       "        vertical-align: middle;\n",
       "    }\n",
       "\n",
       "    .dataframe tbody tr th {\n",
       "        vertical-align: top;\n",
       "    }\n",
       "\n",
       "    .dataframe thead th {\n",
       "        text-align: right;\n",
       "    }\n",
       "</style>\n",
       "<table border=\"1\" class=\"dataframe\">\n",
       "  <thead>\n",
       "    <tr style=\"text-align: right;\">\n",
       "      <th></th>\n",
       "      <th>Zone</th>\n",
       "      <th>Eruption</th>\n",
       "      <th>N_samples</th>\n",
       "      <th>Volume(km3)</th>\n",
       "      <th>Longitude</th>\n",
       "      <th>Latitude</th>\n",
       "      <th>num_min_age(wrt2000AD)</th>\n",
       "      <th>num_max_age(wrt2000AD)</th>\n",
       "      <th>MgO</th>\n",
       "      <th>La</th>\n",
       "      <th>Frac(Volume(km3))</th>\n",
       "      <th>Frac(La)</th>\n",
       "      <th>Type</th>\n",
       "      <th>Period_minAgeSorted</th>\n",
       "      <th>Period_maxAgeSorted</th>\n",
       "    </tr>\n",
       "  </thead>\n",
       "  <tbody>\n",
       "    <tr>\n",
       "      <th>0</th>\n",
       "      <td>NNVZ</td>\n",
       "      <td>Sandnabotnafjall</td>\n",
       "      <td>2</td>\n",
       "      <td>0.60</td>\n",
       "      <td>-16.750000</td>\n",
       "      <td>65.690000</td>\n",
       "      <td>24000.0</td>\n",
       "      <td>70000.0</td>\n",
       "      <td>7.520000</td>\n",
       "      <td>6.785000</td>\n",
       "      <td>1.632923</td>\n",
       "      <td>2.501366</td>\n",
       "      <td>Glacial</td>\n",
       "      <td>Glacial</td>\n",
       "      <td>Glacial</td>\n",
       "    </tr>\n",
       "    <tr>\n",
       "      <th>1</th>\n",
       "      <td>NNVZ</td>\n",
       "      <td>Hrafntinnuhryggur</td>\n",
       "      <td>4</td>\n",
       "      <td>0.05</td>\n",
       "      <td>-16.730000</td>\n",
       "      <td>65.720000</td>\n",
       "      <td>24000.0</td>\n",
       "      <td>30000.0</td>\n",
       "      <td>3.713333</td>\n",
       "      <td>42.866667</td>\n",
       "      <td>0.285547</td>\n",
       "      <td>4.794715</td>\n",
       "      <td>Glacial</td>\n",
       "      <td>Glacial</td>\n",
       "      <td>Glacial</td>\n",
       "    </tr>\n",
       "    <tr>\n",
       "      <th>2</th>\n",
       "      <td>NNVZ</td>\n",
       "      <td>Gaesafjoll</td>\n",
       "      <td>41</td>\n",
       "      <td>7.00</td>\n",
       "      <td>-16.903805</td>\n",
       "      <td>65.763951</td>\n",
       "      <td>14400.0</td>\n",
       "      <td>30000.0</td>\n",
       "      <td>9.081341</td>\n",
       "      <td>7.416193</td>\n",
       "      <td>13.027278</td>\n",
       "      <td>4.306270</td>\n",
       "      <td>Glacial</td>\n",
       "      <td>Glacial</td>\n",
       "      <td>Glacial</td>\n",
       "    </tr>\n",
       "    <tr>\n",
       "      <th>3</th>\n",
       "      <td>NNVZ</td>\n",
       "      <td>KraflaMountain</td>\n",
       "      <td>2</td>\n",
       "      <td>0.30</td>\n",
       "      <td>-16.730000</td>\n",
       "      <td>65.710000</td>\n",
       "      <td>14000.0</td>\n",
       "      <td>30000.0</td>\n",
       "      <td>8.240000</td>\n",
       "      <td>5.975000</td>\n",
       "      <td>0.647538</td>\n",
       "      <td>3.006737</td>\n",
       "      <td>Glacial</td>\n",
       "      <td>Glacial</td>\n",
       "      <td>Glacial</td>\n",
       "    </tr>\n",
       "    <tr>\n",
       "      <th>4</th>\n",
       "      <td>NNVZ</td>\n",
       "      <td>HyaloclastiteRidges1.15km3</td>\n",
       "      <td>6</td>\n",
       "      <td>1.15</td>\n",
       "      <td>-16.741667</td>\n",
       "      <td>65.725000</td>\n",
       "      <td>12000.0</td>\n",
       "      <td>70000.0</td>\n",
       "      <td>6.833333</td>\n",
       "      <td>7.726667</td>\n",
       "      <td>3.747329</td>\n",
       "      <td>2.386946</td>\n",
       "      <td>Glacial</td>\n",
       "      <td>Glacial</td>\n",
       "      <td>Glacial</td>\n",
       "    </tr>\n",
       "    <tr>\n",
       "      <th>...</th>\n",
       "      <td>...</td>\n",
       "      <td>...</td>\n",
       "      <td>...</td>\n",
       "      <td>...</td>\n",
       "      <td>...</td>\n",
       "      <td>...</td>\n",
       "      <td>...</td>\n",
       "      <td>...</td>\n",
       "      <td>...</td>\n",
       "      <td>...</td>\n",
       "      <td>...</td>\n",
       "      <td>...</td>\n",
       "      <td>...</td>\n",
       "      <td>...</td>\n",
       "      <td>...</td>\n",
       "    </tr>\n",
       "    <tr>\n",
       "      <th>130</th>\n",
       "      <td>WVZS</td>\n",
       "      <td>Eldborgir</td>\n",
       "      <td>22</td>\n",
       "      <td>1.60</td>\n",
       "      <td>-20.948636</td>\n",
       "      <td>64.272273</td>\n",
       "      <td>6100.0</td>\n",
       "      <td>7800.0</td>\n",
       "      <td>8.889091</td>\n",
       "      <td>6.200000</td>\n",
       "      <td>2.641343</td>\n",
       "      <td>4.332169</td>\n",
       "      <td>Postglacial</td>\n",
       "      <td>Postglacial</td>\n",
       "      <td>Postglacial</td>\n",
       "    </tr>\n",
       "    <tr>\n",
       "      <th>131</th>\n",
       "      <td>WVZS</td>\n",
       "      <td>Stangarhals</td>\n",
       "      <td>2</td>\n",
       "      <td>0.03</td>\n",
       "      <td>-21.230000</td>\n",
       "      <td>64.155000</td>\n",
       "      <td>5700.0</td>\n",
       "      <td>8900.0</td>\n",
       "      <td>8.205000</td>\n",
       "      <td>NaN</td>\n",
       "      <td>0.065575</td>\n",
       "      <td>NaN</td>\n",
       "      <td>Postglacial</td>\n",
       "      <td>Postglacial</td>\n",
       "      <td>Postglacial</td>\n",
       "    </tr>\n",
       "    <tr>\n",
       "      <th>132</th>\n",
       "      <td>WVZS</td>\n",
       "      <td>Hagavikurhraun</td>\n",
       "      <td>3</td>\n",
       "      <td>0.40</td>\n",
       "      <td>-21.276667</td>\n",
       "      <td>64.096667</td>\n",
       "      <td>5600.0</td>\n",
       "      <td>5800.0</td>\n",
       "      <td>7.943333</td>\n",
       "      <td>6.060000</td>\n",
       "      <td>0.956188</td>\n",
       "      <td>2.524056</td>\n",
       "      <td>Postglacial</td>\n",
       "      <td>Postglacial</td>\n",
       "      <td>Postglacial</td>\n",
       "    </tr>\n",
       "    <tr>\n",
       "      <th>133</th>\n",
       "      <td>WVZS</td>\n",
       "      <td>Thjofahraun</td>\n",
       "      <td>25</td>\n",
       "      <td>1.00</td>\n",
       "      <td>-20.937600</td>\n",
       "      <td>64.328920</td>\n",
       "      <td>3500.0</td>\n",
       "      <td>3700.0</td>\n",
       "      <td>8.125960</td>\n",
       "      <td>8.875000</td>\n",
       "      <td>2.247647</td>\n",
       "      <td>4.227475</td>\n",
       "      <td>Postglacial</td>\n",
       "      <td>Postglacial</td>\n",
       "      <td>Postglacial</td>\n",
       "    </tr>\n",
       "    <tr>\n",
       "      <th>134</th>\n",
       "      <td>WVZS</td>\n",
       "      <td>Nesjahraun</td>\n",
       "      <td>12</td>\n",
       "      <td>0.40</td>\n",
       "      <td>-21.319750</td>\n",
       "      <td>64.069167</td>\n",
       "      <td>1700.0</td>\n",
       "      <td>1900.0</td>\n",
       "      <td>7.682182</td>\n",
       "      <td>6.680000</td>\n",
       "      <td>1.037882</td>\n",
       "      <td>2.535859</td>\n",
       "      <td>Postglacial</td>\n",
       "      <td>Postglacial</td>\n",
       "      <td>Postglacial</td>\n",
       "    </tr>\n",
       "  </tbody>\n",
       "</table>\n",
       "<p>135 rows × 15 columns</p>\n",
       "</div>"
      ],
      "text/plain": [
       "     Zone                    Eruption  N_samples  Volume(km3)  Longitude  \\\n",
       "0    NNVZ            Sandnabotnafjall          2         0.60 -16.750000   \n",
       "1    NNVZ           Hrafntinnuhryggur          4         0.05 -16.730000   \n",
       "2    NNVZ                  Gaesafjoll         41         7.00 -16.903805   \n",
       "3    NNVZ              KraflaMountain          2         0.30 -16.730000   \n",
       "4    NNVZ  HyaloclastiteRidges1.15km3          6         1.15 -16.741667   \n",
       "..    ...                         ...        ...          ...        ...   \n",
       "130  WVZS                   Eldborgir         22         1.60 -20.948636   \n",
       "131  WVZS                 Stangarhals          2         0.03 -21.230000   \n",
       "132  WVZS              Hagavikurhraun          3         0.40 -21.276667   \n",
       "133  WVZS                 Thjofahraun         25         1.00 -20.937600   \n",
       "134  WVZS                  Nesjahraun         12         0.40 -21.319750   \n",
       "\n",
       "      Latitude  num_min_age(wrt2000AD)  num_max_age(wrt2000AD)       MgO  \\\n",
       "0    65.690000                 24000.0                 70000.0  7.520000   \n",
       "1    65.720000                 24000.0                 30000.0  3.713333   \n",
       "2    65.763951                 14400.0                 30000.0  9.081341   \n",
       "3    65.710000                 14000.0                 30000.0  8.240000   \n",
       "4    65.725000                 12000.0                 70000.0  6.833333   \n",
       "..         ...                     ...                     ...       ...   \n",
       "130  64.272273                  6100.0                  7800.0  8.889091   \n",
       "131  64.155000                  5700.0                  8900.0  8.205000   \n",
       "132  64.096667                  5600.0                  5800.0  7.943333   \n",
       "133  64.328920                  3500.0                  3700.0  8.125960   \n",
       "134  64.069167                  1700.0                  1900.0  7.682182   \n",
       "\n",
       "            La  Frac(Volume(km3))  Frac(La)         Type Period_minAgeSorted  \\\n",
       "0     6.785000           1.632923  2.501366      Glacial             Glacial   \n",
       "1    42.866667           0.285547  4.794715      Glacial             Glacial   \n",
       "2     7.416193          13.027278  4.306270      Glacial             Glacial   \n",
       "3     5.975000           0.647538  3.006737      Glacial             Glacial   \n",
       "4     7.726667           3.747329  2.386946      Glacial             Glacial   \n",
       "..         ...                ...       ...          ...                 ...   \n",
       "130   6.200000           2.641343  4.332169  Postglacial         Postglacial   \n",
       "131        NaN           0.065575       NaN  Postglacial         Postglacial   \n",
       "132   6.060000           0.956188  2.524056  Postglacial         Postglacial   \n",
       "133   8.875000           2.247647  4.227475  Postglacial         Postglacial   \n",
       "134   6.680000           1.037882  2.535859  Postglacial         Postglacial   \n",
       "\n",
       "    Period_maxAgeSorted  \n",
       "0               Glacial  \n",
       "1               Glacial  \n",
       "2               Glacial  \n",
       "3               Glacial  \n",
       "4               Glacial  \n",
       "..                  ...  \n",
       "130         Postglacial  \n",
       "131         Postglacial  \n",
       "132         Postglacial  \n",
       "133         Postglacial  \n",
       "134         Postglacial  \n",
       "\n",
       "[135 rows x 15 columns]"
      ]
     },
     "execution_count": 3,
     "metadata": {},
     "output_type": "execute_result"
    }
   ],
   "source": [
    "erupt_av # take a quick look at the column names"
   ]
  },
  {
   "cell_type": "markdown",
   "metadata": {},
   "source": [
    "This file contains an estimate of the age and volume of 124 volcanic eruptions from three well-studied volcanic regions of Iceland. The Longitude and Latitutde show the location of an estimate of the eruptive vent. The column labelled \"Zone\" refers to the volcanic zone in Iceland - see Figure 5 of [Eksinchol et al., 2019](https://agupubs.onlinelibrary.wiley.com/doi/full/10.1029/2019GC008222) for a guide to these locations.\n",
    "\n",
    "__Q2.1 Why do you think that the eruptions are characteried by a minimum and maximum age constraint, rather than by an single age estimate?__\n",
    "\n",
    "_Given current analytical limitations, and the low K content of the basalts, it is not possible to determine radiometric ages for such young eruptions (by Ar-Ar). These ages are the brackets provided by stratigraphic markers - the tephra (ash) layers. The ages of certain ash layers are known, and can be used to bracket the flow ages. Another age bound can be provided by the volcanic morphology (e.g. subaerial lava shields versus tuya) and facies (i.e. subglacial pillows/hyaloclasite versus._"
   ]
  },
  {
   "cell_type": "markdown",
   "metadata": {},
   "source": [
    "Now let's focus in on the northern part of the Northern Volcanic Zone of Iceland (NNVZ). First, filter the dataset to just pick samples from that region"
   ]
  },
  {
   "cell_type": "code",
   "execution_count": 4,
   "metadata": {
    "scrolled": true
   },
   "outputs": [],
   "source": [
    "nnvz = erupt_av[(erupt_av.Zone==\"NNVZ\")]"
   ]
  },
  {
   "cell_type": "code",
   "execution_count": 5,
   "metadata": {},
   "outputs": [
    {
     "name": "stderr",
     "output_type": "stream",
     "text": [
      "<ipython-input-5-d13fb498a9cf>:1: FutureWarning: The default value of regex will change from True to False in a future version. In addition, single character regular expressions will*not* be treated as literal strings when regex=True.\n",
      "  nnvz.columns=nnvz.columns.str.replace('(','') # removal of special symbols from column headers\n",
      "<ipython-input-5-d13fb498a9cf>:2: FutureWarning: The default value of regex will change from True to False in a future version. In addition, single character regular expressions will*not* be treated as literal strings when regex=True.\n",
      "  nnvz.columns=nnvz.columns.str.replace(')','')\n"
     ]
    }
   ],
   "source": [
    "nnvz.columns=nnvz.columns.str.replace('(','') # removal of special symbols from column headers\n",
    "nnvz.columns=nnvz.columns.str.replace(')','')\n"
   ]
  },
  {
   "cell_type": "markdown",
   "metadata": {},
   "source": [
    "The final deglaciation of most of this part of the NNVZ took place about 12 kyr ago. \n",
    "\n",
    "__Q2.2 How do you think that the age bounds on younger eruptions were obtained?__\n",
    "\n",
    "_Tephrochronology (See above)_\n",
    "\n",
    "Here's a figure showing some information about eruption volumes and ages. Try to establish what is being shown here and provide useful axes and labels in a legend if you can.  "
   ]
  },
  {
   "cell_type": "code",
   "execution_count": 6,
   "metadata": {
    "scrolled": true
   },
   "outputs": [
    {
     "data": {
      "image/png": "[encoded data removed]",
      "text/plain": [
       "<IPython.core.display.Image object>"
      ]
     },
     "execution_count": 6,
     "metadata": {
      "image/png": {
       "width": 500
      }
     },
     "output_type": "execute_result"
    }
   ],
   "source": [
    "fig = pygmt.Figure()\n",
    "fig.plot(\n",
    "    x=nnvz.num_min_agewrt2000AD,\n",
    "    y=nnvz.Volumekm3,\n",
    "    style=\"c0.25c\",\n",
    "    color=\"lightgreen\",\n",
    "    pen=\"faint\",\n",
    "    projection=\"X15c/10c\",\n",
    "    # ``WSne`` is passed to ``frame`` to put axis labels only on the left and bottom axes.\n",
    "    frame=[\"af\", \"WSne\"],\n",
    ")\n",
    "fig.plot(\n",
    "    x=nnvz.num_max_agewrt2000AD,\n",
    "    y=nnvz.Volumekm3,\n",
    "    style=\"s0.25c\",\n",
    "    color=\"red\",)\n",
    "fig.show()"
   ]
  },
  {
   "cell_type": "markdown",
   "metadata": {},
   "source": [
    "__Q2.3 Can you use this data to estimate how eruption rates have varied through time in the northern NVZ?__\n",
    "\n",
    "_A few different approaches are possible. Quickest is to split the dataframe into three ages using the minimum age constraints, perhaps putting in bounds at 0, 6.5, 14 kyr. Then sum the volume and divide by the age range. Another, more involved approach is to write a function that tracks through time, then checks whether an eruption could have happened at that bound. If so, add time step*(volume of eruption/possible age range) to volume sum at that time. [Figure 7 from Eksinchol et al., 2012](https://agupubs.onlinelibrary.wiley.com/cms/asset/7b7b9c1c-a9d6-4beb-ae79-82e00f63dcd3/ggge21894-fig-0007-m.jpg) shows another way of displaying likely variations in eruption rate._\n",
    "\n"
   ]
  },
  {
   "cell_type": "markdown",
   "metadata": {},
   "source": [
    "Here are two useful `pandas` tricks to help. You can add up values in columns like so:"
   ]
  },
  {
   "cell_type": "code",
   "execution_count": 7,
   "metadata": {},
   "outputs": [
    {
     "data": {
      "text/plain": [
       "45.9"
      ]
     },
     "execution_count": 7,
     "metadata": {},
     "output_type": "execute_result"
    }
   ],
   "source": [
    "nnvz.Volumekm3.sum()"
   ]
  },
  {
   "cell_type": "markdown",
   "metadata": {},
   "source": [
    "which gives the total sum of the Eruption volumes in the dataframe called `nnvz`. We can also subset the data using the filtering style of commands which you saw from the last practical:"
   ]
  },
  {
   "cell_type": "code",
   "execution_count": 8,
   "metadata": {
    "scrolled": true
   },
   "outputs": [
    {
     "data": {
      "text/html": [
       "<div>\n",
       "<style scoped>\n",
       "    .dataframe tbody tr th:only-of-type {\n",
       "        vertical-align: middle;\n",
       "    }\n",
       "\n",
       "    .dataframe tbody tr th {\n",
       "        vertical-align: top;\n",
       "    }\n",
       "\n",
       "    .dataframe thead th {\n",
       "        text-align: right;\n",
       "    }\n",
       "</style>\n",
       "<table border=\"1\" class=\"dataframe\">\n",
       "  <thead>\n",
       "    <tr style=\"text-align: right;\">\n",
       "      <th></th>\n",
       "      <th>Zone</th>\n",
       "      <th>Eruption</th>\n",
       "      <th>N_samples</th>\n",
       "      <th>Volumekm3</th>\n",
       "      <th>Longitude</th>\n",
       "      <th>Latitude</th>\n",
       "      <th>num_min_agewrt2000AD</th>\n",
       "      <th>num_max_agewrt2000AD</th>\n",
       "      <th>MgO</th>\n",
       "      <th>La</th>\n",
       "      <th>FracVolumekm3</th>\n",
       "      <th>FracLa</th>\n",
       "      <th>Type</th>\n",
       "      <th>Period_minAgeSorted</th>\n",
       "      <th>Period_maxAgeSorted</th>\n",
       "    </tr>\n",
       "  </thead>\n",
       "  <tbody>\n",
       "    <tr>\n",
       "      <th>35</th>\n",
       "      <td>NNVZ</td>\n",
       "      <td>Myvatnseldar</td>\n",
       "      <td>3</td>\n",
       "      <td>0.25</td>\n",
       "      <td>-16.891667</td>\n",
       "      <td>65.676000</td>\n",
       "      <td>270.000000</td>\n",
       "      <td>271.000000</td>\n",
       "      <td>6.000000</td>\n",
       "      <td>8.990000</td>\n",
       "      <td>0.977564</td>\n",
       "      <td>2.296404</td>\n",
       "      <td>Postglacial</td>\n",
       "      <td>Postglacial</td>\n",
       "      <td>Postglacial</td>\n",
       "    </tr>\n",
       "    <tr>\n",
       "      <th>36</th>\n",
       "      <td>NNVZ</td>\n",
       "      <td>Kroflueldar</td>\n",
       "      <td>36</td>\n",
       "      <td>0.25</td>\n",
       "      <td>-16.778028</td>\n",
       "      <td>65.768111</td>\n",
       "      <td>25.472222</td>\n",
       "      <td>34.083333</td>\n",
       "      <td>7.145971</td>\n",
       "      <td>7.551194</td>\n",
       "      <td>0.753512</td>\n",
       "      <td>2.549245</td>\n",
       "      <td>Postglacial</td>\n",
       "      <td>Postglacial</td>\n",
       "      <td>Postglacial</td>\n",
       "    </tr>\n",
       "  </tbody>\n",
       "</table>\n",
       "</div>"
      ],
      "text/plain": [
       "    Zone      Eruption  N_samples  Volumekm3  Longitude   Latitude  \\\n",
       "35  NNVZ  Myvatnseldar          3       0.25 -16.891667  65.676000   \n",
       "36  NNVZ   Kroflueldar         36       0.25 -16.778028  65.768111   \n",
       "\n",
       "    num_min_agewrt2000AD  num_max_agewrt2000AD       MgO        La  \\\n",
       "35            270.000000            271.000000  6.000000  8.990000   \n",
       "36             25.472222             34.083333  7.145971  7.551194   \n",
       "\n",
       "    FracVolumekm3    FracLa         Type Period_minAgeSorted  \\\n",
       "35       0.977564  2.296404  Postglacial         Postglacial   \n",
       "36       0.753512  2.549245  Postglacial         Postglacial   \n",
       "\n",
       "   Period_maxAgeSorted  \n",
       "35         Postglacial  \n",
       "36         Postglacial  "
      ]
     },
     "execution_count": 8,
     "metadata": {},
     "output_type": "execute_result"
    }
   ],
   "source": [
    "nnvz_historic = nnvz[(nnvz.num_max_agewrt2000AD < 2000-873)] # age of the settlement of Iceland\n",
    "nnvz_historic"
   ]
  },
  {
   "cell_type": "markdown",
   "metadata": {},
   "source": [
    "In this case it only selects eruptions that are definitely younger than the age of Viking settlement of Iceland. "
   ]
  },
  {
   "cell_type": "markdown",
   "metadata": {},
   "source": [
    "__Q2.6 What uncertainties does one face when attempting to reconstruct the average eruption rate through time?__\n",
    "\n",
    "_Uncertainty in eruption volume. Poorly constrained eruption ages. Lack of knowledge about duration of individual eruption. Patchy record due to burial and erosion. Uncertainty in dating techniques, such as errors on radiometric dates._"
   ]
  },
  {
   "cell_type": "markdown",
   "metadata": {},
   "source": [
    "__Q2.7. What is the relationship between eruption rate and deglaciation in Krafla and Theistareykir?__\n",
    "\n",
    "_Look at variable volcanic production rates. Values of 0.2-0.6 km3 per kyr in all period apart from early postglacial, when production rate is 20 km3 per kyr. So a factor of 30-100 times higher during this early postglacial period. - This relationship has also been observed in the south of Iceland (Reykjanes Peninsula and Western Volcanic Zone)._\n"
   ]
  },
  {
   "cell_type": "markdown",
   "metadata": {},
   "source": [
    "__2.8 List possible mechanisms that may account for the observed relationship between deglaciation and eruption rates.__\n",
    "\n",
    "_Crustal storage - melt held in magma chambers when ice load present, released when drop in confining stress on deglaciation allows magma chamber walls to fracture. Enhanced decompression melting - removal of ice load increases mantle melting rates. See below._\n"
   ]
  },
  {
   "cell_type": "markdown",
   "metadata": {},
   "source": [
    "## 3 Magma chamber processes ##\n",
    "\n",
    "### 15 minutes ###\n",
    "\n",
    "When the confining stresses on the walls of a magma chamber are reduced, it is more likely that the walls of the chamber will fracture. Magma may then escape from the chamber through these fractures towards the surface where an eruption will take place. Therefore, one possible mechanism for varying eruption rates is that mantle melts supplied to the crust during the glacial period are stored in magma chambers and are seldom erupted due to the difficulty in fracturing the chamber walls. However, when the glacial overburden is removed, these stored melts can be erupted to generate the early postglacial burst in volcanic activity. Activity will then return to a steady-state.\n",
    "\n",
    "__Q3.1\tIn the mechanism described above, which out of glacial, early postglacial and recent eruptions are predicted to have been stored for the greatest length of time in magma chambers?__\n",
    "\n",
    "_Early postglacial_\n",
    "\n",
    "It is possible to evaluate the importance of this mechanism in nature by examining the compositions of lava from the three time periods. Crystallisation, assimilation of crustal materials and mixing of mantle melts are all thought to occur in magma chambers in the Icelandic crust."
   ]
  },
  {
   "cell_type": "code",
   "execution_count": 9,
   "metadata": {
    "scrolled": true
   },
   "outputs": [],
   "source": [
    "majors = pd.read_excel(\"compositions.xlsx\") # Data table with some major element compositions"
   ]
  },
  {
   "cell_type": "markdown",
   "metadata": {},
   "source": [
    "The MgO content of the eruptions from the different time brackets are also provided in the data table `majors`. In addition, the composition of cumulate materials and an Icelandic rhyolite are given in the table.\n",
    "\n",
    "The gabbro and wehrlite are the calculated compositions of material that crystallises from Krafla and Theistareykir basalts, with wehrlite dominating in magma with >9.5 wt% MgO, and gabbro at <9.5 wt%. The modal mineralogy of the gabbro is 10% olivine, 40% clinopyroxene and 50% plagioclase, and that of the wehrlite is 70% olivine and 30% clinopyroxene. Ti, Mn, Na and K were not calculated for these materials, although in nature the crystallising phases will contain minor amounts of these elements. All of the iron present in the rocks is given as Fe<sub>2</sub>O<sub>3</sub>. However, Icelandic basalts typically have Fe<sup>2+</sup>/(Fe<sup>2+</sup>+Fe<sup>3+</sup>)=0.9. The rhyolite composition is an erupted composition from the Krafla central volcano, and is thought to be generated by melting of hydrothermally altered crust.\n"
   ]
  },
  {
   "cell_type": "markdown",
   "metadata": {},
   "source": [
    "Inspect the major element data. \n",
    "\n",
    "__Q3.2 The MgO content of basalts is a useful monitor of the progress of magma chamber processes. What is the likely effect of magma chamber processes on the MgO content? Why should this be the case?__\n",
    "\n",
    "_MgO lowered by magma chamber processes. Crystallisation of high MgO solids will drop MgO content of remaining liquid. Assimilation of crustal melts - rhyolites - will also decrease the MgO._"
   ]
  },
  {
   "cell_type": "markdown",
   "metadata": {},
   "source": [
    "__3.3 Is the magma chamber storage mechanism described above responsible for the variation in eruption rates between glacial and early postglacial times?__\n",
    "\n",
    "_Probably not - MgO content of largest eruptions are all rather similar. No evidence for extended magmatic storage._\n"
   ]
  },
  {
   "cell_type": "markdown",
   "metadata": {},
   "source": [
    "In fact, the early postglacial rocks of Theistareykir (and also of the Reykjanes peninsula) are some of the most MgO-rich found on the mid-ocean ridge system, including the famous Theistareykir picrites, with their spectacular accumulations of olivine."
   ]
  },
  {
   "cell_type": "markdown",
   "metadata": {},
   "source": [
    "## 4 Mantle Melting ##\n",
    "\n",
    "### 30 minutes ###\n",
    "\n",
    "Another possible means of varying eruption rates is by altering the rate of melt generation and supply from the mantle. Melting under mid-ocean ridges and in mantle plumes occurs as a result of decompression.\n",
    "\n",
    "__Q4.1\t The full spreading rate in Iceland is approximately 20 mm yr<sup>-1</sup>. What is likely to be the average upwelling rate in the melting region under the ridge? (Estimate this average upwelling rate for ridge angles of 30°, 45° and 60°). Use can use python as your calculator, with an example of a trigonometric function below.__"
   ]
  },
  {
   "cell_type": "code",
   "execution_count": 10,
   "metadata": {},
   "outputs": [
    {
     "data": {
      "text/plain": [
       "0.7071067811865475"
      ]
     },
     "execution_count": 10,
     "metadata": {},
     "output_type": "execute_result"
    }
   ],
   "source": [
    "test = np.sin(45. * np.pi / 180.) # notice the radians to degrees conversion\n",
    "test"
   ]
  },
  {
   "cell_type": "code",
   "execution_count": 11,
   "metadata": {},
   "outputs": [
    {
     "data": {
      "text/plain": [
       "(5.773502691896256, 9.999999999999998, 17.320508075688767)"
      ]
     },
     "execution_count": 11,
     "metadata": {},
     "output_type": "execute_result"
    }
   ],
   "source": [
    "u = 10 # mm yr -1 half spreading rate\n",
    "v30 = u * np.tan(30. * np.pi/180.)\n",
    "v45 = u * np.tan(45. * np.pi/180.)\n",
    "v60 = u * np.tan(60. * np.pi/180.)\n",
    "v30,v45,v60 # upwelling velocities in mm yr-1"
   ]
  },
  {
   "cell_type": "markdown",
   "metadata": {},
   "source": [
    "__Q4.2 Convert this upwelling rate into a rate of decompression ($dP/dt$). Use SI units of Pa for pressure and s for time.__"
   ]
  },
  {
   "cell_type": "code",
   "execution_count": 12,
   "metadata": {},
   "outputs": [
    {
     "data": {
      "text/plain": [
       "(5.749060403520799e-06, 9.957664714680456e-06, 1.7247181210562393e-05)"
      ]
     },
     "execution_count": 12,
     "metadata": {},
     "output_type": "execute_result"
    }
   ],
   "source": [
    "# P = rho g z\n",
    "rho = 3200 # kg m-3 density\n",
    "g = 9.82 # m s-2 grav acc\n",
    "\n",
    "# dP/dt = (dP/dz) (dz/dt) = rho g (dz/dt)\n",
    "\n",
    "mmyr2ms = np.divide(1.,1000*60.*60.*24*365.25) # conversion factor from mm yr-1 to SI units\n",
    "\n",
    "dpdt30 = v30*rho*g*mmyr2ms\n",
    "dpdt45 = v45*rho*g*mmyr2ms\n",
    "dpdt60 = v60*rho*g*mmyr2ms\n",
    "\n",
    "dpdt30,dpdt45,dpdt60\n",
    "\n"
   ]
  },
  {
   "cell_type": "markdown",
   "metadata": {},
   "source": [
    "At any given depth, the melting rate is $dX/dt=(dX/dP)\\times(dP/dt)$. While melt productivity upon decompression, $dX/DP$, will vary within the melting region, average values are likely to be close to 0.1 GPa<sup>-1</sup> (i.e. 10% per 30 km decompression)."
   ]
  },
  {
   "cell_type": "markdown",
   "metadata": {},
   "source": [
    "__Q4.3 Estimate the average melting rate in the melting region under northern Iceland that results from plate spreading__"
   ]
  },
  {
   "cell_type": "code",
   "execution_count": 17,
   "metadata": {
    "scrolled": true
   },
   "outputs": [
    {
     "data": {
      "text/plain": [
       "9.957664714680455e-16"
      ]
     },
     "execution_count": 17,
     "metadata": {},
     "output_type": "execute_result"
    }
   ],
   "source": [
    "dXdp = np.power(10.,-10.)\n",
    "dXdt45 = dXdp * dpdt45\n",
    "dXdt45 # a very tiny number in s-1 - but should make sense check if assume height of melting region is 100 km and upwelling rate is 10 mm yr-1"
   ]
  },
  {
   "cell_type": "markdown",
   "metadata": {},
   "source": [
    "Removal of the load of the ice sheet can also lead to decompression. The maximum thickness of the ice-sheet was close to 2 km, and it was removed in approximately 1000 years.\n",
    "\n",
    "__Q4.4 Estimate the decompression rate that results from deglaciation.__"
   ]
  },
  {
   "cell_type": "code",
   "execution_count": 18,
   "metadata": {},
   "outputs": [
    {
     "data": {
      "text/plain": [
       "0.0006223540446675286"
      ]
     },
     "execution_count": 18,
     "metadata": {},
     "output_type": "execute_result"
    }
   ],
   "source": [
    "rho_i = 1000 # kg m-3 ice density\n",
    "h_i = 2000 # m ice thickness\n",
    "P_i = rho_i*g*h_i\n",
    "spry = 60.*60.*24*365.25\n",
    "delt_i = 1000 * spry # s in decompression time\n",
    "dpdt_i = np.divide(P_i,delt_i)\n",
    "dpdt_i"
   ]
  },
  {
   "cell_type": "markdown",
   "metadata": {},
   "source": [
    "__Q4.5 Calculate the average melting rate in the melting region that results from this decompression.__ \n"
   ]
  },
  {
   "cell_type": "code",
   "execution_count": 19,
   "metadata": {},
   "outputs": [
    {
     "data": {
      "text/plain": [
       "6.223540446675286e-14"
      ]
     },
     "execution_count": 19,
     "metadata": {},
     "output_type": "execute_result"
    }
   ],
   "source": [
    "dXdt_i = dXdp * dpdt_i\n",
    "dXdt_i"
   ]
  },
  {
   "cell_type": "markdown",
   "metadata": {},
   "source": [
    "__Q4.6 Estimate the relative increase in melting rates during deglaciation.__\n"
   ]
  },
  {
   "cell_type": "code",
   "execution_count": 21,
   "metadata": {},
   "outputs": [
    {
     "data": {
      "text/plain": [
       "62.50000000000001"
      ]
     },
     "execution_count": 21,
     "metadata": {},
     "output_type": "execute_result"
    }
   ],
   "source": [
    "relrate = np.divide(dXdt_i,dXdt45)\n",
    "relrate"
   ]
  },
  {
   "cell_type": "markdown",
   "metadata": {},
   "source": [
    "__Q4.7\tHow does this increase compare with the variation in eruption rates between steady-state conditions (glacial or recent times, when ice-sheet size is not changing) and the early postglacial period between 12 kyr and 10.5 kyr ago?__\n",
    "\n",
    "_It is of a comparable magnitude - indicating that this may be an effective mechanism for generating high volcanic productivity subsequent to deglaciation._\n",
    "\n",
    "These simple calculations indicate that deglaciation may indeed have an important effect upon mantle melting under Iceland. However, in the calculations above, it was assumed that the decompression resulting from unloading of the ice would result in uniform decompression in the melting region. Detailed models of the effects of unloading on decompression rates within a visco-elastic medium were first performed by [Jull & McKenzie](http://onlinelibrary.wiley.com/doi/10.1029/96JB01308/abstract) (JM96) and results are shown in a figure at the end of the [file of pictures](https://drive.google.com/file/d/1hbX74EyFjv-GP3o7c5yL46uxV5g22n7u/view?usp=sharing). Updated calculations and a [fancy video](https://agupubs.onlinelibrary.wiley.com/action/downloadSupplement?doi=10.1029%2F2019GC008222&file=ggge21894-sup-0002-2019GC008222-Movie_SI-S01.mp4) are available in [Eksinchol et al., 2019](https://agupubs.onlinelibrary.wiley.com/doi/full/10.1029/2019GC008222)."
   ]
  },
  {
   "cell_type": "markdown",
   "metadata": {},
   "source": [
    "__Q4.8 According to the decompression model of JM96, does the proportion of melt generated in the shallower parts of the melting region increase or decrease during the unloading period?__ \n",
    "\n",
    "_While melting rates increase everywhere in the melting region, the biggest relative increase in melting rates is in the shallow part of the melting region._"
   ]
  },
  {
   "cell_type": "markdown",
   "metadata": {},
   "source": [
    "## 5 Geochemical Test of Melting Models ##\n",
    "\n",
    "### 30 minutes ###\n",
    "\n",
    "Once again, the action of this decompression mechanism in nature can be checked using geochemical observations. Please recall the variation in the Rare Earth Element (REE) composition of instantaneous fractional melts as a function of depth (see Lecture 21 notes and [figure in file](https://drive.google.com/file/d/1hbX74EyFjv-GP3o7c5yL46uxV5g22n7u/view?usp=sharing)).\n",
    "\n",
    "__Q5.1 If melting is influenced by deglaciation as predicted by JM96, would early postglacial eruptions have higher or lower La contents than glacial and recent eruptions? What about La/Yb ratio?__\n",
    "\n",
    "_Lower La and lower La/Yb - because the shallowest melts have these properties and those melts are more heavily weighted in the melt generation during the decompression associated with glacial unloading._"
   ]
  },
  {
   "cell_type": "markdown",
   "metadata": {},
   "source": [
    "__Q5.2\tHow do these predictions compare with the observations provided in the data sets (`erupt_av` and `majors`)? Does deglaciation influence mantle melting under Iceland?__\n",
    "\n",
    "_We observe, in the largest eruptions, that early postglacial lava shield have significant lower La/Yb than either subglacial eruptions or recent fissure eruptions._"
   ]
  },
  {
   "cell_type": "markdown",
   "metadata": {},
   "source": [
    "__Q5.3\tIf deglaciation does indeed influence mantle melting, can you use the relative timing of deglaciation and the postglacial increase in eruption rates to constrain the upwards transport rates of melt in the mantle?__\n",
    "\n",
    "_About 50 m yr-1 or more - the burst in volcanic activity is over within a couple of thousand years of the end of glaciation_\n"
   ]
  },
  {
   "cell_type": "markdown",
   "metadata": {},
   "source": [
    "__Q5.4 Can you think of any possible parts of a positive feedback loop whereby an increase in eruption rates causes increased rates of deglaciation?__\n",
    "\n",
    "_Enhanced CO2 release to atmosphere by high magmatic supply rate? Iceland by itself isn't a big enough emitter, but some have argued for a global effect. Supply of magmatic heat to the base of the ice sheet tends to weaken the base of the ice sheet, increasing lubrication by basal meltwater or reducing the effective viscosity of the ice - which increases deglaciation rate._\n"
   ]
  },
  {
   "cell_type": "code",
   "execution_count": null,
   "metadata": {},
   "outputs": [],
   "source": []
  }
 ],
 "metadata": {
  "jupytext": {
   "cell_metadata_filter": "name,tags,-all",
   "main_language": "R",
   "notebook_metadata_filter": "-all"
  },
  "kernelspec": {
   "display_name": "Python 3",
   "language": "python",
   "name": "python3"
  },
  "language_info": {
   "codemirror_mode": {
    "name": "ipython",
    "version": 3
   },
   "file_extension": ".py",
   "mimetype": "text/x-python",
   "name": "python",
   "nbconvert_exporter": "python",
   "pygments_lexer": "ipython3",
   "version": "3.9.2"
  }
 },
 "nbformat": 4,
 "nbformat_minor": 4
}
